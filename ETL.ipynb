{
 "cells": [
  {
   "cell_type": "markdown",
   "metadata": {},
   "source": [
    "# ETL Notebook"
   ]
  },
  {
   "cell_type": "code",
   "execution_count": 50,
   "metadata": {},
   "outputs": [],
   "source": [
    "import requests\n",
    "import json\n",
    "import pandas as pd\n",
    "from datetime import datetime\n",
    "\n",
    "# Import YT API\n",
    "from secret_keys import yt_api_key\n",
    "from youtube_transcript_api import YouTubeTranscriptApi"
   ]
  },
  {
   "cell_type": "markdown",
   "metadata": {},
   "source": [
    "### Utility Functions"
   ]
  },
  {
   "cell_type": "code",
   "execution_count": 51,
   "metadata": {},
   "outputs": [],
   "source": [
    "def getVideoInfo(response):\n",
    "    \"\"\"\n",
    "    \"\"\"\n",
    "    page_items = json.loads(response.content)['items']\n",
    "\n",
    "    video_info_list = []\n",
    "\n",
    "    for item in page_items:\n",
    "        if item['id']['kind'] == 'youtube#video':\n",
    "            video_id = item['id']['videoId']\n",
    "            upload_date = item['snippet']['publishedAt']\n",
    "            video_title = item['snippet']['title']\n",
    "\n",
    "            video_info_list.append({'video_id' : video_id, 'video_title' : video_title, 'upload_date' : upload_date})\n",
    "\n",
    "    return video_info_list\n"
   ]
  },
  {
   "cell_type": "code",
   "execution_count": null,
   "metadata": {},
   "outputs": [],
   "source": [
    "def getVideoTranscript(video_id : str):\n",
    "    \"\"\"   \n",
    "    \"\"\"\n",
    "    try:\n",
    "        # get transcript\n",
    "        transcript = YouTubeTranscriptApi.get_transcript(video_id)\n",
    "        transcript_text = ''\n",
    "        for item in transcript:\n",
    "            transcript_text += item['text'] + ' '\n",
    "\n",
    "    except:\n",
    "        # If no captions available set transcript text to \"n/a\"\n",
    "        transcript_text = \"n/a\"\n",
    "\n",
    "    return transcript_text"
   ]
  },
  {
   "cell_type": "markdown",
   "metadata": {},
   "source": [
    "### Extract Process : Extract Title & Transcript Data of RWS's YT Videos"
   ]
  },
  {
   "cell_type": "code",
   "execution_count": 52,
   "metadata": {},
   "outputs": [],
   "source": [
    "# Define channel ID of RWS's Youtube Channel\n",
    "channel_id = \"UCXYHvmfsgeS19pjIXlyCryQ\"\n",
    "\n",
    "# Define Youtube Search API URL\n",
    "yt_api_url = \"https://www.googleapis.com/youtube/v3/search\"\n",
    "\n",
    "# Initialize list to store video data & page token\n",
    "video_info_list = []\n",
    "page_token = None"
   ]
  },
  {
   "cell_type": "code",
   "execution_count": 53,
   "metadata": {},
   "outputs": [],
   "source": [
    "# Extract video data from all search result pages\n",
    "while page_token != 0:\n",
    "    # define parameters for Youtube API request\n",
    "    params = {'key' : yt_api_key, 'channelId' : channel_id,\n",
    "              'part' : [\"snippet\", \"id\"], 'order' : \"date\",\n",
    "              'maxResults' : 50, 'pageToken' : page_token}\n",
    "    \n",
    "    # Make API request\n",
    "    response = requests.get(yt_api_url, params=params)\n",
    "    video_info_list += getVideoInfo(response)\n",
    "\n",
    "    # Make API request for next page if next page exists\n",
    "    try:\n",
    "        page_token = json.loads(response.text)[\"nextPageToken\"]\n",
    "    except:\n",
    "        page_token = 0"
   ]
  },
  {
   "cell_type": "code",
   "execution_count": 54,
   "metadata": {},
   "outputs": [
    {
     "data": {
      "text/html": [
       "<div>\n",
       "<style scoped>\n",
       "    .dataframe tbody tr th:only-of-type {\n",
       "        vertical-align: middle;\n",
       "    }\n",
       "\n",
       "    .dataframe tbody tr th {\n",
       "        vertical-align: top;\n",
       "    }\n",
       "\n",
       "    .dataframe thead th {\n",
       "        text-align: right;\n",
       "    }\n",
       "</style>\n",
       "<table border=\"1\" class=\"dataframe\">\n",
       "  <thead>\n",
       "    <tr style=\"text-align: right;\">\n",
       "      <th></th>\n",
       "      <th>video_id</th>\n",
       "      <th>video_title</th>\n",
       "      <th>upload_date</th>\n",
       "    </tr>\n",
       "  </thead>\n",
       "  <tbody>\n",
       "    <tr>\n",
       "      <th>0</th>\n",
       "      <td>RMPzrfXYaIo</td>\n",
       "      <td>Full Event | RWS SUPERFIGHT | 16/11/2024</td>\n",
       "      <td>2024-11-20T07:45:55Z</td>\n",
       "    </tr>\n",
       "    <tr>\n",
       "      <th>1</th>\n",
       "      <td>9sk2Vf9Eakg</td>\n",
       "      <td>AGE IS JUST A NUMBER! 💪🏻</td>\n",
       "      <td>2024-11-19T12:25:43Z</td>\n",
       "    </tr>\n",
       "    <tr>\n",
       "      <th>2</th>\n",
       "      <td>Tk4H8kZh0KI</td>\n",
       "      <td>Full Fight l Yonis Anane Venum Muay Thai vs Ja...</td>\n",
       "      <td>2024-11-17T04:30:12Z</td>\n",
       "    </tr>\n",
       "    <tr>\n",
       "      <th>3</th>\n",
       "      <td>4SnTIX075hk</td>\n",
       "      <td>Full Fight l Joe Ryan 2 Brothers Gym vs Petchm...</td>\n",
       "      <td>2024-11-17T04:15:00Z</td>\n",
       "    </tr>\n",
       "    <tr>\n",
       "      <th>4</th>\n",
       "      <td>mCpGEYufiEA</td>\n",
       "      <td>Full Fight l Khunsueklek Boomdeksian vs Kevin ...</td>\n",
       "      <td>2024-11-17T04:00:25Z</td>\n",
       "    </tr>\n",
       "  </tbody>\n",
       "</table>\n",
       "</div>"
      ],
      "text/plain": [
       "      video_id                                        video_title  \\\n",
       "0  RMPzrfXYaIo           Full Event | RWS SUPERFIGHT | 16/11/2024   \n",
       "1  9sk2Vf9Eakg                           AGE IS JUST A NUMBER! 💪🏻   \n",
       "2  Tk4H8kZh0KI  Full Fight l Yonis Anane Venum Muay Thai vs Ja...   \n",
       "3  4SnTIX075hk  Full Fight l Joe Ryan 2 Brothers Gym vs Petchm...   \n",
       "4  mCpGEYufiEA  Full Fight l Khunsueklek Boomdeksian vs Kevin ...   \n",
       "\n",
       "            upload_date  \n",
       "0  2024-11-20T07:45:55Z  \n",
       "1  2024-11-19T12:25:43Z  \n",
       "2  2024-11-17T04:30:12Z  \n",
       "3  2024-11-17T04:15:00Z  \n",
       "4  2024-11-17T04:00:25Z  "
      ]
     },
     "execution_count": 54,
     "metadata": {},
     "output_type": "execute_result"
    }
   ],
   "source": [
    "# Store response data in a DataFrame\n",
    "df = pd.DataFrame(video_info_list)\n",
    "df.head()"
   ]
  },
  {
   "cell_type": "code",
   "execution_count": 56,
   "metadata": {},
   "outputs": [
    {
     "data": {
      "text/html": [
       "<div>\n",
       "<style scoped>\n",
       "    .dataframe tbody tr th:only-of-type {\n",
       "        vertical-align: middle;\n",
       "    }\n",
       "\n",
       "    .dataframe tbody tr th {\n",
       "        vertical-align: top;\n",
       "    }\n",
       "\n",
       "    .dataframe thead th {\n",
       "        text-align: right;\n",
       "    }\n",
       "</style>\n",
       "<table border=\"1\" class=\"dataframe\">\n",
       "  <thead>\n",
       "    <tr style=\"text-align: right;\">\n",
       "      <th></th>\n",
       "      <th>video_id</th>\n",
       "      <th>video_title</th>\n",
       "      <th>upload_date</th>\n",
       "      <th>transcript</th>\n",
       "    </tr>\n",
       "  </thead>\n",
       "  <tbody>\n",
       "    <tr>\n",
       "      <th>0</th>\n",
       "      <td>RMPzrfXYaIo</td>\n",
       "      <td>Full Event | RWS SUPERFIGHT | 16/11/2024</td>\n",
       "      <td>2024-11-20T07:45:55Z</td>\n",
       "      <td>a C good evening ladies and gentlemen we are h...</td>\n",
       "    </tr>\n",
       "    <tr>\n",
       "      <th>1</th>\n",
       "      <td>9sk2Vf9Eakg</td>\n",
       "      <td>AGE IS JUST A NUMBER! 💪🏻</td>\n",
       "      <td>2024-11-19T12:25:43Z</td>\n",
       "      <td>n/a</td>\n",
       "    </tr>\n",
       "    <tr>\n",
       "      <th>2</th>\n",
       "      <td>Tk4H8kZh0KI</td>\n",
       "      <td>Full Fight l Yonis Anane Venum Muay Thai vs Ja...</td>\n",
       "      <td>2024-11-17T04:30:12Z</td>\n",
       "      <td>this is R introducing your referee Mr [Music] ...</td>\n",
       "    </tr>\n",
       "    <tr>\n",
       "      <th>3</th>\n",
       "      <td>4SnTIX075hk</td>\n",
       "      <td>Full Fight l Joe Ryan 2 Brothers Gym vs Petchm...</td>\n",
       "      <td>2024-11-17T04:15:00Z</td>\n",
       "      <td>this is R introducing your referee Mr Narin po...</td>\n",
       "    </tr>\n",
       "    <tr>\n",
       "      <th>4</th>\n",
       "      <td>mCpGEYufiEA</td>\n",
       "      <td>Full Fight l Khunsueklek Boomdeksian vs Kevin ...</td>\n",
       "      <td>2024-11-17T04:00:25Z</td>\n",
       "      <td>this is r and introduce your referee Mr Pyon [...</td>\n",
       "    </tr>\n",
       "  </tbody>\n",
       "</table>\n",
       "</div>"
      ],
      "text/plain": [
       "      video_id                                        video_title  \\\n",
       "0  RMPzrfXYaIo           Full Event | RWS SUPERFIGHT | 16/11/2024   \n",
       "1  9sk2Vf9Eakg                           AGE IS JUST A NUMBER! 💪🏻   \n",
       "2  Tk4H8kZh0KI  Full Fight l Yonis Anane Venum Muay Thai vs Ja...   \n",
       "3  4SnTIX075hk  Full Fight l Joe Ryan 2 Brothers Gym vs Petchm...   \n",
       "4  mCpGEYufiEA  Full Fight l Khunsueklek Boomdeksian vs Kevin ...   \n",
       "\n",
       "            upload_date                                         transcript  \n",
       "0  2024-11-20T07:45:55Z  a C good evening ladies and gentlemen we are h...  \n",
       "1  2024-11-19T12:25:43Z                                                n/a  \n",
       "2  2024-11-17T04:30:12Z  this is R introducing your referee Mr [Music] ...  \n",
       "3  2024-11-17T04:15:00Z  this is R introducing your referee Mr Narin po...  \n",
       "4  2024-11-17T04:00:25Z  this is r and introduce your referee Mr Pyon [...  "
      ]
     },
     "execution_count": 56,
     "metadata": {},
     "output_type": "execute_result"
    }
   ],
   "source": [
    "### Add video transcripts to Video Data dataframe\n",
    "df['transcript'] = df['video_id'].apply(lambda x : getVideoTranscript(x))\n",
    "df.head()"
   ]
  },
  {
   "cell_type": "markdown",
   "metadata": {},
   "source": [
    "### Transform Process : Clean Data & Transform Into An Appropriate Format"
   ]
  },
  {
   "cell_type": "code",
   "execution_count": 57,
   "metadata": {},
   "outputs": [
    {
     "name": "stdout",
     "output_type": "stream",
     "text": [
      "shape :  (514, 4)\n",
      "# Unique Rows :  513\n",
      "num unique entries in video_id column :  513\n",
      "num unique entries in video_title column :  512\n",
      "num unique entries in upload_date column :  513\n",
      "num unique entries in transcript column :  205\n"
     ]
    }
   ],
   "source": [
    "# Check dataset for duplicates\n",
    "print(\"shape : \", df.shape)\n",
    "print(\"# Unique Rows : \", df.shape[0]-sum(df.duplicated()))\n",
    "for column in df.nunique().index:\n",
    "    print(f\"num unique entries in {column} column : \", df.nunique()[column])\n",
    "\n",
    "# Remove duplicate entries\n",
    "df = df.drop_duplicates(keep='first')"
   ]
  },
  {
   "cell_type": "code",
   "execution_count": 58,
   "metadata": {},
   "outputs": [],
   "source": [
    "# Reformat upload_date column\n",
    "df['upload_date'] = df['upload_date'].apply(lambda x : datetime.strptime(x, '%Y-%m-%dT%H:%M:%SZ'))"
   ]
  },
  {
   "cell_type": "code",
   "execution_count": 59,
   "metadata": {},
   "outputs": [],
   "source": [
    "# Perform data cleaning\n",
    "remove_list = ['[Music]', '[Applause]']\n",
    "for item in remove_list:\n",
    "    df['transcript'] = df['transcript'].apply(lambda x : x.replace(item, ''))\n",
    "\n",
    "df['video_title'] = df['video_title'].apply(lambda x : x.replace(' l ', ' | '))\n",
    "df['video_title'] = df['video_title'].apply(lambda x : x.replace(\"&#39;\", \"'\"))"
   ]
  },
  {
   "cell_type": "markdown",
   "metadata": {},
   "source": [
    "### Load Process : Load the transformed data into the project's 'data' directory"
   ]
  },
  {
   "cell_type": "code",
   "execution_count": 62,
   "metadata": {},
   "outputs": [],
   "source": [
    "# Save data as parquet file\n",
    "df.to_parquet('data/rws-video-transcripts.parquet')"
   ]
  }
 ],
 "metadata": {
  "kernelspec": {
   "display_name": "build_env",
   "language": "python",
   "name": "python3"
  },
  "language_info": {
   "codemirror_mode": {
    "name": "ipython",
    "version": 3
   },
   "file_extension": ".py",
   "mimetype": "text/x-python",
   "name": "python",
   "nbconvert_exporter": "python",
   "pygments_lexer": "ipython3",
   "version": "3.9.6"
  }
 },
 "nbformat": 4,
 "nbformat_minor": 2
}
