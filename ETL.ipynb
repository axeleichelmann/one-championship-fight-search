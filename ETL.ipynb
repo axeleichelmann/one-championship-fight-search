{
 "cells": [
  {
   "cell_type": "markdown",
   "metadata": {},
   "source": [
    "# ETL Notebook"
   ]
  },
  {
   "cell_type": "code",
   "execution_count": 1,
   "metadata": {},
   "outputs": [
    {
     "name": "stderr",
     "output_type": "stream",
     "text": [
      "/Users/axel/one-championship-fight-search/build_env/lib/python3.9/site-packages/urllib3/__init__.py:35: NotOpenSSLWarning: urllib3 v2 only supports OpenSSL 1.1.1+, currently the 'ssl' module is compiled with 'LibreSSL 2.8.3'. See: https://github.com/urllib3/urllib3/issues/3020\n",
      "  warnings.warn(\n"
     ]
    }
   ],
   "source": [
    "import requests\n",
    "import json\n",
    "import pandas as pd\n",
    "\n",
    "# Import YT API\n",
    "from secret_keys import yt_api_key\n",
    "from youtube_transcript_api import YouTubeTranscriptApi"
   ]
  },
  {
   "cell_type": "markdown",
   "metadata": {},
   "source": [
    "### Utility Functions"
   ]
  },
  {
   "cell_type": "code",
   "execution_count": 2,
   "metadata": {},
   "outputs": [],
   "source": [
    "def getVideoInfo(response):\n",
    "    \"\"\"\n",
    "    \"\"\"\n",
    "    page_items = json.loads(response.content)['items']\n",
    "\n",
    "    video_info_list = []\n",
    "\n",
    "    for item in page_items:\n",
    "        if item['id']['kind'] == 'youtube#video':\n",
    "            video_id = item['id']['videoId']\n",
    "            upload_date = item['snippet']['publishedAt']\n",
    "            video_title = item['snippet']['title']\n",
    "\n",
    "            video_info_list.append({'video_id' : video_id, 'video_title' : video_title, 'upload_date' : upload_date})\n",
    "\n",
    "    return video_info_list\n",
    "\n"
   ]
  },
  {
   "cell_type": "markdown",
   "metadata": {},
   "source": [
    "### Extract Process : Extract Title & Transcript Data of RWS's YT Videos"
   ]
  },
  {
   "cell_type": "code",
   "execution_count": 3,
   "metadata": {},
   "outputs": [],
   "source": [
    "# Define channel ID of RWS's Youtube Channel\n",
    "channel_id = \"UCXYHvmfsgeS19pjIXlyCryQ\"\n",
    "\n",
    "# Define Youtube Search API URL\n",
    "yt_api_url = \"https://www.googleapis.com/youtube/v3/search\"\n",
    "\n",
    "# Initialize list to store video data & page token\n",
    "video_info_list = []\n",
    "page_token = None"
   ]
  },
  {
   "cell_type": "code",
   "execution_count": 5,
   "metadata": {},
   "outputs": [],
   "source": [
    "# Extract video data from all search result pages\n",
    "while page_token != 0:\n",
    "    # define parameters for Youtube API request\n",
    "    params = {'key' : yt_api_key, 'channelId' : channel_id,\n",
    "              'part' : [\"snippet\", \"id\"], 'order' : \"date\",\n",
    "              'maxResults' : 50, 'pageToken' : page_token}\n",
    "    \n",
    "    # Make API request\n",
    "    response = requests.get(yt_api_url, params=params)\n",
    "    video_info_list += getVideoInfo(response)\n",
    "\n",
    "    # Make API request for next page if next page exists\n",
    "    try:\n",
    "        page_token = json.loads(response.text)[\"nextPageToken\"]\n",
    "    except:\n",
    "        page_token = 0"
   ]
  },
  {
   "cell_type": "code",
   "execution_count": 6,
   "metadata": {},
   "outputs": [
    {
     "data": {
      "text/html": [
       "<div>\n",
       "<style scoped>\n",
       "    .dataframe tbody tr th:only-of-type {\n",
       "        vertical-align: middle;\n",
       "    }\n",
       "\n",
       "    .dataframe tbody tr th {\n",
       "        vertical-align: top;\n",
       "    }\n",
       "\n",
       "    .dataframe thead th {\n",
       "        text-align: right;\n",
       "    }\n",
       "</style>\n",
       "<table border=\"1\" class=\"dataframe\">\n",
       "  <thead>\n",
       "    <tr style=\"text-align: right;\">\n",
       "      <th></th>\n",
       "      <th>video_id</th>\n",
       "      <th>video_title</th>\n",
       "      <th>upload_date</th>\n",
       "    </tr>\n",
       "  </thead>\n",
       "  <tbody>\n",
       "    <tr>\n",
       "      <th>0</th>\n",
       "      <td>9sk2Vf9Eakg</td>\n",
       "      <td>AGE IS JUST A NUMBER! 💪🏻</td>\n",
       "      <td>2024-11-19T12:25:43Z</td>\n",
       "    </tr>\n",
       "    <tr>\n",
       "      <th>1</th>\n",
       "      <td>Tk4H8kZh0KI</td>\n",
       "      <td>Full Fight l Yonis Anane Venum Muay Thai vs Ja...</td>\n",
       "      <td>2024-11-17T04:30:12Z</td>\n",
       "    </tr>\n",
       "    <tr>\n",
       "      <th>2</th>\n",
       "      <td>4SnTIX075hk</td>\n",
       "      <td>Full Fight l Joe Ryan 2 Brothers Gym vs Petchm...</td>\n",
       "      <td>2024-11-17T04:15:00Z</td>\n",
       "    </tr>\n",
       "    <tr>\n",
       "      <th>3</th>\n",
       "      <td>mCpGEYufiEA</td>\n",
       "      <td>Full Fight l Khunsueklek Boomdeksian vs Kevin ...</td>\n",
       "      <td>2024-11-17T04:00:25Z</td>\n",
       "    </tr>\n",
       "    <tr>\n",
       "      <th>4</th>\n",
       "      <td>Adrbh6bz0_k</td>\n",
       "      <td>Full Fight l Domthong Lookjaoporrongtom vs Boo...</td>\n",
       "      <td>2024-11-17T03:45:00Z</td>\n",
       "    </tr>\n",
       "  </tbody>\n",
       "</table>\n",
       "</div>"
      ],
      "text/plain": [
       "      video_id                                        video_title  \\\n",
       "0  9sk2Vf9Eakg                           AGE IS JUST A NUMBER! 💪🏻   \n",
       "1  Tk4H8kZh0KI  Full Fight l Yonis Anane Venum Muay Thai vs Ja...   \n",
       "2  4SnTIX075hk  Full Fight l Joe Ryan 2 Brothers Gym vs Petchm...   \n",
       "3  mCpGEYufiEA  Full Fight l Khunsueklek Boomdeksian vs Kevin ...   \n",
       "4  Adrbh6bz0_k  Full Fight l Domthong Lookjaoporrongtom vs Boo...   \n",
       "\n",
       "            upload_date  \n",
       "0  2024-11-19T12:25:43Z  \n",
       "1  2024-11-17T04:30:12Z  \n",
       "2  2024-11-17T04:15:00Z  \n",
       "3  2024-11-17T04:00:25Z  \n",
       "4  2024-11-17T03:45:00Z  "
      ]
     },
     "execution_count": 6,
     "metadata": {},
     "output_type": "execute_result"
    }
   ],
   "source": [
    "# Store response data in a DataFrame\n",
    "df = pd.DataFrame(video_info_list)\n",
    "df.head()"
   ]
  },
  {
   "cell_type": "code",
   "execution_count": 12,
   "metadata": {},
   "outputs": [],
   "source": [
    "def getVideoTranscript(video_id : str):\n",
    "    \"\"\"   \n",
    "    \"\"\"\n",
    "    try:\n",
    "        # get transcript\n",
    "        transcript = YouTubeTranscriptApi.get_transcript(video_id)\n",
    "        transcript_text = ''\n",
    "        for item in transcript:\n",
    "            transcript_text += item['text'] + ''\n",
    "\n",
    "    except:\n",
    "        # If no captions available set transcript text to \"n/a\"\n",
    "        transcript_text = \"n/a\"\n",
    "\n",
    "    return transcript_text"
   ]
  },
  {
   "cell_type": "code",
   "execution_count": 14,
   "metadata": {},
   "outputs": [
    {
     "data": {
      "text/html": [
       "<div>\n",
       "<style scoped>\n",
       "    .dataframe tbody tr th:only-of-type {\n",
       "        vertical-align: middle;\n",
       "    }\n",
       "\n",
       "    .dataframe tbody tr th {\n",
       "        vertical-align: top;\n",
       "    }\n",
       "\n",
       "    .dataframe thead th {\n",
       "        text-align: right;\n",
       "    }\n",
       "</style>\n",
       "<table border=\"1\" class=\"dataframe\">\n",
       "  <thead>\n",
       "    <tr style=\"text-align: right;\">\n",
       "      <th></th>\n",
       "      <th>video_id</th>\n",
       "      <th>video_title</th>\n",
       "      <th>upload_date</th>\n",
       "      <th>transcript</th>\n",
       "    </tr>\n",
       "  </thead>\n",
       "  <tbody>\n",
       "    <tr>\n",
       "      <th>0</th>\n",
       "      <td>9sk2Vf9Eakg</td>\n",
       "      <td>AGE IS JUST A NUMBER! 💪🏻</td>\n",
       "      <td>2024-11-19T12:25:43Z</td>\n",
       "      <td>n/a</td>\n",
       "    </tr>\n",
       "    <tr>\n",
       "      <th>1</th>\n",
       "      <td>Tk4H8kZh0KI</td>\n",
       "      <td>Full Fight l Yonis Anane Venum Muay Thai vs Ja...</td>\n",
       "      <td>2024-11-17T04:30:12Z</td>\n",
       "      <td>this isR introducing your referee Mr[Music]P a...</td>\n",
       "    </tr>\n",
       "    <tr>\n",
       "      <th>2</th>\n",
       "      <td>4SnTIX075hk</td>\n",
       "      <td>Full Fight l Joe Ryan 2 Brothers Gym vs Petchm...</td>\n",
       "      <td>2024-11-17T04:15:00Z</td>\n",
       "      <td>this isR introducing your referee Mr Narinpong...</td>\n",
       "    </tr>\n",
       "    <tr>\n",
       "      <th>3</th>\n",
       "      <td>mCpGEYufiEA</td>\n",
       "      <td>Full Fight l Khunsueklek Boomdeksian vs Kevin ...</td>\n",
       "      <td>2024-11-17T04:00:25Z</td>\n",
       "      <td>this isr and introduce your referee Mr Pyon[Mu...</td>\n",
       "    </tr>\n",
       "    <tr>\n",
       "      <th>4</th>\n",
       "      <td>Adrbh6bz0_k</td>\n",
       "      <td>Full Fight l Domthong Lookjaoporrongtom vs Boo...</td>\n",
       "      <td>2024-11-17T03:45:00Z</td>\n",
       "      <td>this isR introducing your referee[Music]Mr and...</td>\n",
       "    </tr>\n",
       "  </tbody>\n",
       "</table>\n",
       "</div>"
      ],
      "text/plain": [
       "      video_id                                        video_title  \\\n",
       "0  9sk2Vf9Eakg                           AGE IS JUST A NUMBER! 💪🏻   \n",
       "1  Tk4H8kZh0KI  Full Fight l Yonis Anane Venum Muay Thai vs Ja...   \n",
       "2  4SnTIX075hk  Full Fight l Joe Ryan 2 Brothers Gym vs Petchm...   \n",
       "3  mCpGEYufiEA  Full Fight l Khunsueklek Boomdeksian vs Kevin ...   \n",
       "4  Adrbh6bz0_k  Full Fight l Domthong Lookjaoporrongtom vs Boo...   \n",
       "\n",
       "            upload_date                                         transcript  \n",
       "0  2024-11-19T12:25:43Z                                                n/a  \n",
       "1  2024-11-17T04:30:12Z  this isR introducing your referee Mr[Music]P a...  \n",
       "2  2024-11-17T04:15:00Z  this isR introducing your referee Mr Narinpong...  \n",
       "3  2024-11-17T04:00:25Z  this isr and introduce your referee Mr Pyon[Mu...  \n",
       "4  2024-11-17T03:45:00Z  this isR introducing your referee[Music]Mr and...  "
      ]
     },
     "execution_count": 14,
     "metadata": {},
     "output_type": "execute_result"
    }
   ],
   "source": [
    "### Add video transcripts to Video Data dataframe\n",
    "df['transcript'] = df['video_id'].apply(lambda x : getVideoTranscript(x))\n",
    "df.head()"
   ]
  },
  {
   "cell_type": "markdown",
   "metadata": {},
   "source": [
    "### Transform Process : Clean Data & Transform Into An Appropriate Format"
   ]
  },
  {
   "cell_type": "code",
   "execution_count": null,
   "metadata": {},
   "outputs": [],
   "source": []
  },
  {
   "cell_type": "code",
   "execution_count": null,
   "metadata": {},
   "outputs": [],
   "source": []
  },
  {
   "cell_type": "code",
   "execution_count": null,
   "metadata": {},
   "outputs": [],
   "source": []
  }
 ],
 "metadata": {
  "kernelspec": {
   "display_name": "build_env",
   "language": "python",
   "name": "python3"
  },
  "language_info": {
   "codemirror_mode": {
    "name": "ipython",
    "version": 3
   },
   "file_extension": ".py",
   "mimetype": "text/x-python",
   "name": "python",
   "nbconvert_exporter": "python",
   "pygments_lexer": "ipython3",
   "version": "3.9.6"
  }
 },
 "nbformat": 4,
 "nbformat_minor": 2
}
